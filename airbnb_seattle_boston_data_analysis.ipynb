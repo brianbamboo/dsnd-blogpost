{
 "cells": [
  {
   "cell_type": "markdown",
   "metadata": {},
   "source": [
    "# AirBnB Seattle / Boston Data Analysis"
   ]
  },
  {
   "cell_type": "code",
   "execution_count": 1,
   "metadata": {},
   "outputs": [],
   "source": [
    "import pandas as pd\n",
    "import numpy as np\n",
    "import seaborn as sns\n",
    "import matplotlib.pyplot as plt\n",
    "import re\n",
    "from collections import Counter\n",
    "from sklearn.linear_model import LinearRegression\n",
    "from sklearn.model_selection import train_test_split \n",
    "from sklearn.metrics import r2_score, mean_squared_error\n",
    "% matplotlib inline"
   ]
  },
  {
   "cell_type": "code",
   "execution_count": null,
   "metadata": {},
   "outputs": [],
   "source": [
    "Data gathering\n",
    "Data assessment\n",
    "Data cleaning\n",
    "Data analyze\n",
    "Model\n",
    "Visualization"
   ]
  },
  {
   "cell_type": "markdown",
   "metadata": {},
   "source": [
    "## Data Gathering"
   ]
  },
  {
   "cell_type": "markdown",
   "metadata": {},
   "source": [
    "Data was gathered from Kaggle [here](https://www.kaggle.com/airbnb/boston) and [here](https://www.kaggle.com/airbnb/seattle). The files are saved into the current directory under ./data/seattle/ and ./data/boston/ subdirectories respectively for Seattle and Boston data."
   ]
  },
  {
   "cell_type": "markdown",
   "metadata": {},
   "source": [
    "## Data Assessment and Data Cleaning"
   ]
  },
  {
   "cell_type": "markdown",
   "metadata": {},
   "source": [
    "Next, I'll load in each dataset and assess the values and clean them as necessary."
   ]
  },
  {
   "cell_type": "code",
   "execution_count": 2,
   "metadata": {},
   "outputs": [],
   "source": [
    "sea_cal = pd.read_csv(\"./data/seattle/calendar.csv\", dtype=str)\n",
    "sea_listings = pd.read_csv(\"./data/seattle/listings.csv\", dtype=str)\n",
    "sea_reviews = pd.read_csv(\"./data/seattle/reviews.csv\", dtype=str)"
   ]
  },
  {
   "cell_type": "markdown",
   "metadata": {},
   "source": [
    "I'm going to start by taking a look at the `sea_cal` DataFrame. Note that I've set the `dtype` parameter for the `read_csv` function to `str`. The reason for doing this is that I want to manually specify the types of each variable being read in, to ensure data integrity, especially since this is a foreign dataset to me. One common thing that can happen is leading zeros being trimmed for ID numbers because they get interpreted as a numeric value, and I'll be going through the data anyway, so might as well stay safe.\n",
    "\n",
    "First, I'll just examine each dataset, and then perform type conversions and data cleaning as necessary."
   ]
  },
  {
   "cell_type": "code",
   "execution_count": 3,
   "metadata": {},
   "outputs": [
    {
     "data": {
      "text/html": [
       "<div>\n",
       "<style scoped>\n",
       "    .dataframe tbody tr th:only-of-type {\n",
       "        vertical-align: middle;\n",
       "    }\n",
       "\n",
       "    .dataframe tbody tr th {\n",
       "        vertical-align: top;\n",
       "    }\n",
       "\n",
       "    .dataframe thead th {\n",
       "        text-align: right;\n",
       "    }\n",
       "</style>\n",
       "<table border=\"1\" class=\"dataframe\">\n",
       "  <thead>\n",
       "    <tr style=\"text-align: right;\">\n",
       "      <th></th>\n",
       "      <th>listing_id</th>\n",
       "      <th>date</th>\n",
       "      <th>available</th>\n",
       "      <th>price</th>\n",
       "    </tr>\n",
       "  </thead>\n",
       "  <tbody>\n",
       "    <tr>\n",
       "      <th>0</th>\n",
       "      <td>241032</td>\n",
       "      <td>2016-01-04</td>\n",
       "      <td>t</td>\n",
       "      <td>$85.00</td>\n",
       "    </tr>\n",
       "    <tr>\n",
       "      <th>1</th>\n",
       "      <td>241032</td>\n",
       "      <td>2016-01-05</td>\n",
       "      <td>t</td>\n",
       "      <td>$85.00</td>\n",
       "    </tr>\n",
       "    <tr>\n",
       "      <th>2</th>\n",
       "      <td>241032</td>\n",
       "      <td>2016-01-06</td>\n",
       "      <td>f</td>\n",
       "      <td>NaN</td>\n",
       "    </tr>\n",
       "    <tr>\n",
       "      <th>3</th>\n",
       "      <td>241032</td>\n",
       "      <td>2016-01-07</td>\n",
       "      <td>f</td>\n",
       "      <td>NaN</td>\n",
       "    </tr>\n",
       "    <tr>\n",
       "      <th>4</th>\n",
       "      <td>241032</td>\n",
       "      <td>2016-01-08</td>\n",
       "      <td>f</td>\n",
       "      <td>NaN</td>\n",
       "    </tr>\n",
       "  </tbody>\n",
       "</table>\n",
       "</div>"
      ],
      "text/plain": [
       "  listing_id        date available   price\n",
       "0     241032  2016-01-04         t  $85.00\n",
       "1     241032  2016-01-05         t  $85.00\n",
       "2     241032  2016-01-06         f     NaN\n",
       "3     241032  2016-01-07         f     NaN\n",
       "4     241032  2016-01-08         f     NaN"
      ]
     },
     "metadata": {},
     "output_type": "display_data"
    },
    {
     "name": "stdout",
     "output_type": "stream",
     "text": [
      "listing_id         0\n",
      "date               0\n",
      "available          0\n",
      "price         459028\n",
      "dtype: int64\n"
     ]
    }
   ],
   "source": [
    "display(sea_cal.head())\n",
    "print(sea_cal.isna().sum(axis=0))"
   ]
  },
  {
   "cell_type": "code",
   "execution_count": 4,
   "metadata": {},
   "outputs": [],
   "source": [
    "# Convert date to timestamp, available to 0/1 boolean\n",
    "sea_cal[\"date\"] = sea_cal[\"date\"].map(lambda x: pd.Timestamp(x))\n",
    "sea_cal[\"available\"] = sea_cal[\"available\"].map(lambda x: 1 if x==\"t\" else 0)\n",
    "\n",
    "# Remove comma and $ sign from price strings, then convert to float\n",
    "sea_cal.loc[~sea_cal[\"price\"].isna(), \"price\"] = \\\n",
    "  sea_cal.loc[~sea_cal[\"price\"].isna(), \"price\"].map(lambda x: x.replace(\"$\", \"\").replace(\",\", \"\"))\n",
    "sea_cal[\"price\"] = sea_cal[\"price\"].astype(\"float64\")"
   ]
  },
  {
   "cell_type": "markdown",
   "metadata": {},
   "source": [
    "Next, I'll do the same for the `sea_reviews` data."
   ]
  },
  {
   "cell_type": "code",
   "execution_count": 5,
   "metadata": {},
   "outputs": [
    {
     "data": {
      "text/html": [
       "<div>\n",
       "<style scoped>\n",
       "    .dataframe tbody tr th:only-of-type {\n",
       "        vertical-align: middle;\n",
       "    }\n",
       "\n",
       "    .dataframe tbody tr th {\n",
       "        vertical-align: top;\n",
       "    }\n",
       "\n",
       "    .dataframe thead th {\n",
       "        text-align: right;\n",
       "    }\n",
       "</style>\n",
       "<table border=\"1\" class=\"dataframe\">\n",
       "  <thead>\n",
       "    <tr style=\"text-align: right;\">\n",
       "      <th></th>\n",
       "      <th>listing_id</th>\n",
       "      <th>id</th>\n",
       "      <th>date</th>\n",
       "      <th>reviewer_id</th>\n",
       "      <th>reviewer_name</th>\n",
       "      <th>comments</th>\n",
       "    </tr>\n",
       "  </thead>\n",
       "  <tbody>\n",
       "    <tr>\n",
       "      <th>0</th>\n",
       "      <td>7202016</td>\n",
       "      <td>38917982</td>\n",
       "      <td>2015-07-19</td>\n",
       "      <td>28943674</td>\n",
       "      <td>Bianca</td>\n",
       "      <td>Cute and cozy place. Perfect location to every...</td>\n",
       "    </tr>\n",
       "    <tr>\n",
       "      <th>1</th>\n",
       "      <td>7202016</td>\n",
       "      <td>39087409</td>\n",
       "      <td>2015-07-20</td>\n",
       "      <td>32440555</td>\n",
       "      <td>Frank</td>\n",
       "      <td>Kelly has a great room in a very central locat...</td>\n",
       "    </tr>\n",
       "    <tr>\n",
       "      <th>2</th>\n",
       "      <td>7202016</td>\n",
       "      <td>39820030</td>\n",
       "      <td>2015-07-26</td>\n",
       "      <td>37722850</td>\n",
       "      <td>Ian</td>\n",
       "      <td>Very spacious apartment, and in a great neighb...</td>\n",
       "    </tr>\n",
       "    <tr>\n",
       "      <th>3</th>\n",
       "      <td>7202016</td>\n",
       "      <td>40813543</td>\n",
       "      <td>2015-08-02</td>\n",
       "      <td>33671805</td>\n",
       "      <td>George</td>\n",
       "      <td>Close to Seattle Center and all it has to offe...</td>\n",
       "    </tr>\n",
       "    <tr>\n",
       "      <th>4</th>\n",
       "      <td>7202016</td>\n",
       "      <td>41986501</td>\n",
       "      <td>2015-08-10</td>\n",
       "      <td>34959538</td>\n",
       "      <td>Ming</td>\n",
       "      <td>Kelly was a great host and very accommodating ...</td>\n",
       "    </tr>\n",
       "  </tbody>\n",
       "</table>\n",
       "</div>"
      ],
      "text/plain": [
       "  listing_id        id        date reviewer_id reviewer_name  \\\n",
       "0    7202016  38917982  2015-07-19    28943674        Bianca   \n",
       "1    7202016  39087409  2015-07-20    32440555         Frank   \n",
       "2    7202016  39820030  2015-07-26    37722850           Ian   \n",
       "3    7202016  40813543  2015-08-02    33671805        George   \n",
       "4    7202016  41986501  2015-08-10    34959538          Ming   \n",
       "\n",
       "                                            comments  \n",
       "0  Cute and cozy place. Perfect location to every...  \n",
       "1  Kelly has a great room in a very central locat...  \n",
       "2  Very spacious apartment, and in a great neighb...  \n",
       "3  Close to Seattle Center and all it has to offe...  \n",
       "4  Kelly was a great host and very accommodating ...  "
      ]
     },
     "metadata": {},
     "output_type": "display_data"
    },
    {
     "name": "stdout",
     "output_type": "stream",
     "text": [
      "listing_id        0\n",
      "id                0\n",
      "date              0\n",
      "reviewer_id       0\n",
      "reviewer_name     0\n",
      "comments         18\n",
      "dtype: int64\n"
     ]
    }
   ],
   "source": [
    "display(sea_reviews.head())\n",
    "print(sea_reviews.isna().sum(axis=0))"
   ]
  },
  {
   "cell_type": "code",
   "execution_count": 6,
   "metadata": {},
   "outputs": [],
   "source": [
    "sea_reviews[\"date\"] = sea_reviews[\"date\"].map(lambda x: pd.Timestamp(x))"
   ]
  },
  {
   "cell_type": "markdown",
   "metadata": {},
   "source": [
    "Everything else for the reviews data can stay as is, it's either identifier data or text, which both should stay as strings. Note here that the `listing_id` connects the reviews data to both the calendar data and the listings data. The `id` column here is a unique identifier for reviews, so it can potentially be dropped for the purposes of analysis. the `reviewer_id` can be used to aggregate data by reviewers, so we'll keep that, and the text columns are self-explanatory. Onto the last dataset!"
   ]
  },
  {
   "cell_type": "code",
   "execution_count": 7,
   "metadata": {},
   "outputs": [
    {
     "data": {
      "text/plain": [
       "(3818, 92)"
      ]
     },
     "execution_count": 7,
     "metadata": {},
     "output_type": "execute_result"
    }
   ],
   "source": [
    "sea_listings.shape"
   ]
  },
  {
   "cell_type": "markdown",
   "metadata": {},
   "source": [
    "There's 92 columns here, which is a lot. However, I personally am interested in knowing what all the columns are before I come up with the questions I'm interested in answering, so I'll go through them all and keep them as necessary. Below are the results after maybe an hour or so of manually examining the data in the dataset; I've separated the data by a few types that I'll have to clean appropriately: \n",
    "  * Numeric\n",
    "  * Non-numeric (including both categorical and string)\n",
    "  * Array (variables that contain multiple items that may need to be handled with some extra effort)\n",
    "  * Boolean (T/F variables) \n",
    "  * Timestamp\n",
    "  * Variables to drop (These may have little variation, many missing values, and some, like listing URLs, aren't relevant to the analysis I want to do.)"
   ]
  },
  {
   "cell_type": "markdown",
   "metadata": {},
   "source": [
    "#### Missing Data Handling #1"
   ]
  },
  {
   "cell_type": "markdown",
   "metadata": {},
   "source": [
    "Note here I've decided to drop variables that have almost all missing values (>90%) from my listings dataset. There's so much data missing in these variables that it's not useful for modeling purposes at all. Alternatives here include imputation of missing data, but imputation of data is a bad idea if you're imputing 90% of missing data off of 10% of true data. Later, in the modeling process, I'll do some more missing data handling for the remainder of the missing data."
   ]
  },
  {
   "cell_type": "code",
   "execution_count": 8,
   "metadata": {},
   "outputs": [],
   "source": [
    "num_vars = [23,           # Host Reponse Rate \\\n",
    "            24,           # Host Acceptance Rate \\\n",
    "            29,           # Host Listings Count \\\n",
    "            30,           # Host Total Listings Count \\\n",
    "            50,           # Accomodates (I'm guessing number of people) \\\n",
    "            51,           # Bathrooms \\\n",
    "            52,           # Bedrooms \\\n",
    "            53,           # Beds \\\n",
    "            57,           # Price \\\n",
    "            58,           # Weekly Price \\\n",
    "            59,           # Monthly Price \\\n",
    "            60,           # Security Deposit \\\n",
    "            61,           # Cleaning Fee \\\n",
    "            62,           # Guests Included \\\n",
    "            63,           # Extra People (Cost Per) \\\n",
    "            64,           # Minimum Nights \\\n",
    "            65,           # Maximum Nights \\\n",
    "            68,           # Availability 30 \\\n",
    "            69,           # Availability 60 \\\n",
    "            70,           # Availability 90 \\\n",
    "            71,           # Availability 365 \\\n",
    "            73,           # Number of reviews \\\n",
    "            76,           # Review scores rating \\\n",
    "            77,           # Review scores accuracy \\\n",
    "            78,           # Review scores cleanliness \\\n",
    "            79,           # Review scores check-in \\\n",
    "            80,           # Review scores communication \\\n",
    "            81,           # Review scores location \\\n",
    "            82,           # Review scores value \\\n",
    "            90,           # Calculated host listings count \\\n",
    "            91]           # Reviews per month \\\n",
    "\n",
    "non_num_vars = [0,        # Listing ID \\\n",
    "                4,        # Listing Name \\\n",
    "                5,        # Listing Summary     (Mostly short ver. of 7) \\\n",
    "                6,        # Space Description \\\n",
    "                7,        # Listing Description (Mostly long ver. of 5) \\\n",
    "                9,        # Neighborhood Overview \\\n",
    "                10,       # Notes \\\n",
    "                11,       # Transit \\\n",
    "                16,       # Host ID \\\n",
    "                18,       # Host Name \\\n",
    "                20,       # Host Location \\\n",
    "                21,       # About Host \\\n",
    "                22,       # Host Response Time \\\n",
    "                28,       # Host Neighborhood \\\n",
    "                34,       # Listing street \\\n",
    "                35,       # Listing neighborhood \\\n",
    "                36,       # Listing neighborhood cleansed \\\n",
    "                37,       # Listing neighborhood group cleansed \\\n",
    "                40,       # Zip code \\\n",
    "                48,       # Property type \\\n",
    "                49,       # Room type \\\n",
    "                54,       # Bed type \\\n",
    "                66,       # Calendar last updated \\\n",
    "                87]       # Cancellation policy (flexible, strict, moderate) \\\n",
    "\n",
    "array_vars = [31,         # Host verifications \\\n",
    "              55]         # Amenities \\\n",
    "                \n",
    "boolean_vars = [25,       # Host is superhost \\\n",
    "                32,       # Host has profile pic \\\n",
    "                33,       # Host has identity verified \\\n",
    "                47,       # Is location exact \\\n",
    "                86,       # Instant bookable \\\n",
    "                88,       # Requires guest profile picture \\\n",
    "                89]       # Requires guest phone verif. \\\n",
    "\n",
    "timestamp_vars = [3,      # Last scraped date \\\n",
    "                  19,     # Host since (date) \\\n",
    "                  74,     # First review (date) \\\n",
    "                  75]     # Last review (date) \\\n",
    "\n",
    "vars_to_drop = [1,        # Listing URL \\\n",
    "                2,        # Scrape ID \\\n",
    "                8,        # Experiences offered (No meaningful data) \\\n",
    "                12,       # Thumbnail URL \\\n",
    "                13,       # Medium URL \\\n",
    "                14,       # Picture URL \\\n",
    "                15,       # XL Picture URL \\\n",
    "                17,       # Host URL \\\n",
    "                26,       # Host Thumbnail URL \\\n",
    "                27,       # Host Picture URL \\\n",
    "                38,       # City (basically all Seattle) \\\n",
    "                39,       # State (basically all WA) \\\n",
    "                41,       # Market (all Seattle) \\\n",
    "                42,       # Smart location (basically all Seattle) \\\n",
    "                43,       # Country code (all US) \\\n",
    "                44,       # Country (all US) \\\n",
    "                45,       # Latitude \\\n",
    "                46,       # Longitude \\\n",
    "                56,       # Square feet (97.5% missing data) \\\n",
    "                67,       # Has availability \\ (No variation)\n",
    "                72,       # Calendar last scraped (All same date) \\\n",
    "                83,       # Requires license (No variation) \\\n",
    "                84,       # License (Missing all data) \\\n",
    "                85]       # Juridisction names (All WA)"
   ]
  },
  {
   "cell_type": "code",
   "execution_count": 9,
   "metadata": {},
   "outputs": [
    {
     "data": {
      "text/plain": [
       "92"
      ]
     },
     "execution_count": 9,
     "metadata": {},
     "output_type": "execute_result"
    }
   ],
   "source": [
    "len(set(num_vars + non_num_vars + boolean_vars + array_vars + timestamp_vars + vars_to_drop))"
   ]
  },
  {
   "cell_type": "markdown",
   "metadata": {},
   "source": [
    "Because some of these variables will be handled in a similar fashion, I've written a function to help me clean the timestamp, boolean, and numeric variables. The function works by subsetting the appropriate columns, then iterating over each column with a \"cleaning function\" defined for the type of variable."
   ]
  },
  {
   "cell_type": "code",
   "execution_count": 10,
   "metadata": {},
   "outputs": [],
   "source": [
    "def clean_columns_map(index_arr, map_fn):   \n",
    "    \"\"\"\n",
    "    This function takes in an index array and map function and applies the\n",
    "    map function to the indexed columns.\n",
    "    \n",
    "    @param index_arr: array of integer indices to apply map function to \n",
    "    @param map_fn: map function specifying transformation of each value\n",
    "    @output df: transformed column\n",
    "    \"\"\"\n",
    "    df = sea_listings.iloc[:, index_arr]\n",
    "    for col in df:\n",
    "        df.loc[:, col] = df.loc[:, col].map(map_fn)\n",
    "    return df"
   ]
  },
  {
   "cell_type": "code",
   "execution_count": 11,
   "metadata": {},
   "outputs": [
    {
     "name": "stderr",
     "output_type": "stream",
     "text": [
      "/Users/brianwang/anaconda3/lib/python3.6/site-packages/pandas/core/indexing.py:630: SettingWithCopyWarning: \n",
      "A value is trying to be set on a copy of a slice from a DataFrame.\n",
      "Try using .loc[row_indexer,col_indexer] = value instead\n",
      "\n",
      "See the caveats in the documentation: http://pandas.pydata.org/pandas-docs/stable/indexing.html#indexing-view-versus-copy\n",
      "  self.obj[item_labels[indexer[info_axis]]] = value\n",
      "/Users/brianwang/anaconda3/lib/python3.6/site-packages/pandas/core/indexing.py:543: SettingWithCopyWarning: \n",
      "A value is trying to be set on a copy of a slice from a DataFrame.\n",
      "Try using .loc[row_indexer,col_indexer] = value instead\n",
      "\n",
      "See the caveats in the documentation: http://pandas.pydata.org/pandas-docs/stable/indexing.html#indexing-view-versus-copy\n",
      "  self.obj[item] = s\n"
     ]
    }
   ],
   "source": [
    "timestamp_vars_df = clean_columns_map(timestamp_vars, lambda x: pd.Timestamp(x))\n",
    "boolean_vars_df = clean_columns_map(boolean_vars, lambda x: x if x is np.nan else int(x == \"t\"))\n",
    "\n",
    "num_translation_table = dict.fromkeys(map(ord, \"$%,\"))\n",
    "num_vars_df = clean_columns_map(num_vars, \\\n",
    "    lambda x: x if x is np.nan else np.float64(x.translate(num_translation_table)))"
   ]
  },
  {
   "cell_type": "markdown",
   "metadata": {},
   "source": [
    "The array variables I've handled below a bit more manually. Unlike regular categorical variables, these fields can take on multiple values at one time; for example, a listing can have multiple amenities, or a host can be verified multiple ways. I don't want to handle these columns with the regular `get_dummies` function. For example, applying `get_dummies` to a column with the strings \\[phone\\], \\[email\\], and \\[phone, email\\] would produce 3 dummy columns, but I only want two columns that represent if 'phone' is present or if 'email' is present. Thus, I've manually gone through and created the appropriate columns by following 3 steps.\n",
    "\n",
    "1. Parse each string into a list of values.\n",
    "2. Set union all the lists to obtain one set of unique values.\n",
    "3. For each value in the set, check for membership in each string and produce a column from the results."
   ]
  },
  {
   "cell_type": "code",
   "execution_count": 12,
   "metadata": {},
   "outputs": [],
   "source": [
    "array_vars_df = sea_listings.iloc[:, array_vars]"
   ]
  },
  {
   "cell_type": "code",
   "execution_count": 13,
   "metadata": {},
   "outputs": [],
   "source": [
    "# Parse and handle host verifications array\n",
    "uniq_vals = set()\n",
    "translation_table = dict.fromkeys(map(ord, \"['',]\"))\n",
    "for r in array_vars_df[\"host_verifications\"]:\n",
    "    uniq_vals = uniq_vals.union(set(r.translate(translation_table).split(\" \")))\n",
    "\n",
    "uniq_vals.remove('')\n",
    "uniq_vals.remove('None')\n",
    "\n",
    "array_cleaned_df = pd.DataFrame()\n",
    "for val in uniq_vals:\n",
    "    col_name = 'host_verification_' + val\n",
    "    val_col = pd.DataFrame({ col_name : array_vars_df[\"host_verifications\"].map(lambda x: 1 if val in x else 0)})\n",
    "    array_cleaned_df = pd.concat([array_cleaned_df, val_col], axis=1)\n",
    "\n",
    "# Parse and handle amenities array\n",
    "uniq_vals = set()\n",
    "translation_table = dict.fromkeys(map(ord, \"{['']}\\\"\"))\n",
    "for r in array_vars_df[\"amenities\"]:\n",
    "    uniq_vals = uniq_vals.union(set(r.translate(translation_table).split(\",\")))\n",
    "\n",
    "uniq_vals.remove('')\n",
    "for val in uniq_vals:\n",
    "    col_name = 'amenities_' + val\n",
    "    val_col = pd.DataFrame({ col_name : array_vars_df[\"amenities\"].map(lambda x: 1 if val in x else 0)})\n",
    "    array_cleaned_df = pd.concat([array_cleaned_df, val_col], axis=1)"
   ]
  },
  {
   "cell_type": "markdown",
   "metadata": {},
   "source": [
    "Lastly, I need to handle the non-numeric variables. The thing is, not all the non-numeric variables here are categorical variables; in fact, most of them are strings of some sort. I'm going to attempt to separate the true categorical variables out by looking at the number of unique values each column takes. I'm going to use a pretty strict threshold of 10 unique values for now, because I don't want `get_dummies` to give me an unreasonable number of dummy columns."
   ]
  },
  {
   "cell_type": "code",
   "execution_count": 14,
   "metadata": {},
   "outputs": [],
   "source": [
    "non_num_vars_df = sea_listings.iloc[:, non_num_vars]"
   ]
  },
  {
   "cell_type": "code",
   "execution_count": 15,
   "metadata": {},
   "outputs": [],
   "source": [
    "cat_vars = []\n",
    "str_vars = []\n",
    "for col in non_num_vars_df.columns:\n",
    "    uniq_vals = non_num_vars_df[col].value_counts().shape[0]\n",
    "    if uniq_vals < 10:\n",
    "        cat_vars.append(col)\n",
    "    else:\n",
    "        str_vars.append(col)"
   ]
  },
  {
   "cell_type": "markdown",
   "metadata": {},
   "source": [
    "#### Categorical Variable Handling"
   ]
  },
  {
   "cell_type": "markdown",
   "metadata": {},
   "source": [
    "Here, to handle the categorical variables I will use the pandas function `get_dummies`, which will one-hot encode each categorical variable. I've set the parameters `drop_first=True` and `dummy_na=False`, which will drop the first level of categorical variables and not create an additional dummy NA column."
   ]
  },
  {
   "cell_type": "code",
   "execution_count": 16,
   "metadata": {},
   "outputs": [],
   "source": [
    "# Get dummy columns for the categorical variables\n",
    "cat_vars_df = non_num_vars_df.loc[:, cat_vars]\n",
    "cat_vars_df = pd.get_dummies(cat_vars_df, drop_first=True, dummy_na=False)"
   ]
  },
  {
   "cell_type": "markdown",
   "metadata": {},
   "source": [
    "Lastly, I'll concatenate all the cleaned columns together."
   ]
  },
  {
   "cell_type": "code",
   "execution_count": 17,
   "metadata": {},
   "outputs": [],
   "source": [
    "cleaned_df = pd.concat([boolean_vars_df, num_vars_df, array_cleaned_df, cat_vars_df], axis=1)"
   ]
  },
  {
   "cell_type": "markdown",
   "metadata": {},
   "source": [
    "* Calendar data:\n",
    "    * How does availability and price change over the course of the year (more specifically, with respect to date)?\n",
    "    \n",
    "* Reviews data:\n",
    "    * How do the number of reviews change over the year? \n",
    "    * What's the most common reviewer names?\n",
    "    * What are the most common adjectives in reviews?\n",
    "  \n",
    "* Listings data:\n",
    "    * What are some of the features most correlated with price?"
   ]
  },
  {
   "cell_type": "markdown",
   "metadata": {},
   "source": [
    "Since I also have the Boston dataset, and I'm expecting the schema of the Boston dataset to be relatively similar, I'm just going to load in that data as well and run through all the preceding cleaning steps in a single cell below. That way, when I proceed with answering the above questions for Seattle, I can also compare and contrast the answers with Boston data as well. Note that if I were to continuing processing data in this fashion, I should probably write a re-usable function, but since it's just this one additional time, I can just change all the variable names."
   ]
  },
  {
   "cell_type": "code",
   "execution_count": 18,
   "metadata": {},
   "outputs": [
    {
     "name": "stderr",
     "output_type": "stream",
     "text": [
      "/Users/brianwang/anaconda3/lib/python3.6/site-packages/pandas/core/indexing.py:630: SettingWithCopyWarning: \n",
      "A value is trying to be set on a copy of a slice from a DataFrame.\n",
      "Try using .loc[row_indexer,col_indexer] = value instead\n",
      "\n",
      "See the caveats in the documentation: http://pandas.pydata.org/pandas-docs/stable/indexing.html#indexing-view-versus-copy\n",
      "  self.obj[item_labels[indexer[info_axis]]] = value\n",
      "/Users/brianwang/anaconda3/lib/python3.6/site-packages/pandas/core/indexing.py:543: SettingWithCopyWarning: \n",
      "A value is trying to be set on a copy of a slice from a DataFrame.\n",
      "Try using .loc[row_indexer,col_indexer] = value instead\n",
      "\n",
      "See the caveats in the documentation: http://pandas.pydata.org/pandas-docs/stable/indexing.html#indexing-view-versus-copy\n",
      "  self.obj[item] = s\n"
     ]
    }
   ],
   "source": [
    "bos_cal = pd.read_csv(\"./data/boston-airbnb-open-data/calendar.csv\", dtype=str)\n",
    "bos_listings = pd.read_csv(\"./data/boston-airbnb-open-data/listings.csv\", dtype=str)\n",
    "bos_reviews = pd.read_csv(\"./data/boston-airbnb-open-data/reviews.csv\", dtype=str)\n",
    "\n",
    "# Convert date to timestamp, available to 0/1 boolean\n",
    "bos_cal[\"date\"] = bos_cal[\"date\"].map(lambda x: pd.Timestamp(x))\n",
    "bos_cal[\"available\"] = bos_cal[\"available\"].map(lambda x: 1 if x==\"t\" else 0)\n",
    "\n",
    "# Remove comma and $ sign from price strings, then convert to float\n",
    "bos_cal.loc[~bos_cal[\"price\"].isna(), \"price\"] = \\\n",
    "  bos_cal.loc[~bos_cal[\"price\"].isna(), \"price\"].map(lambda x: x.replace(\"$\", \"\").replace(\",\", \"\"))\n",
    "bos_cal[\"price\"] = bos_cal[\"price\"].astype(\"float64\")\n",
    "\n",
    "bos_reviews[\"date\"] = bos_reviews[\"date\"].map(lambda x: pd.Timestamp(x))\n",
    "\n",
    "# The boston listing dataset has some extra columns, which I will drop\n",
    "bos_listings = bos_listings.drop(columns=bos_listings.columns[~bos_listings.columns.isin(sea_listings.columns)])\n",
    "\n",
    "# Redefine function to use BOS\n",
    "def clean_columns_map(index_arr, map_fn):\n",
    "    \"\"\"\n",
    "    This function takes in an index array and map function and applies the\n",
    "    map function to the indexed columns.\n",
    "    \n",
    "    @param index_arr: array of integer indices to apply map function to \n",
    "    @param map_fn: map function specifying transformation of each value\n",
    "    @output df: transformed column\n",
    "    \"\"\"\n",
    "    df = bos_listings.iloc[:, index_arr]\n",
    "    for col in df:\n",
    "        df.loc[:, col] = df.loc[:, col].map(map_fn)\n",
    "    return df\n",
    "\n",
    "timestamp_vars_df = clean_columns_map(timestamp_vars, lambda x: pd.Timestamp(x))\n",
    "boolean_vars_df = clean_columns_map(boolean_vars, lambda x: x if x is np.nan else int(x == \"t\"))\n",
    "\n",
    "num_translation_table = dict.fromkeys(map(ord, \"$%,\"))\n",
    "num_vars_df = clean_columns_map(num_vars, \\\n",
    "    lambda x: x if x is np.nan else np.float64(x.translate(num_translation_table)))\n",
    "\n",
    "array_vars_df = bos_listings.iloc[:, array_vars]\n",
    "\n",
    "# Parse and handle host verifications array\n",
    "uniq_vals = set()\n",
    "translation_table = dict.fromkeys(map(ord, \"['',]\"))\n",
    "for r in array_vars_df[\"host_verifications\"]:\n",
    "    uniq_vals = uniq_vals.union(set(r.translate(translation_table).split(\" \")))\n",
    "\n",
    "uniq_vals.remove('')\n",
    "# uniq_vals.remove('None')\n",
    "\n",
    "array_cleaned_df = pd.DataFrame()\n",
    "for val in uniq_vals:\n",
    "    col_name = 'host_verification_' + val\n",
    "    val_col = pd.DataFrame({ col_name : array_vars_df[\"host_verifications\"].map(lambda x: 1 if val in x else 0)})\n",
    "    array_cleaned_df = pd.concat([array_cleaned_df, val_col], axis=1)\n",
    "\n",
    "# Parse and handle amenities array\n",
    "uniq_vals = set()\n",
    "translation_table = dict.fromkeys(map(ord, \"{['']}\\\"\"))\n",
    "for r in array_vars_df[\"amenities\"]:\n",
    "    uniq_vals = uniq_vals.union(set(r.translate(translation_table).split(\",\")))\n",
    "\n",
    "uniq_vals.remove('')\n",
    "for val in uniq_vals:\n",
    "    col_name = 'amenities_' + val\n",
    "    val_col = pd.DataFrame({ col_name : array_vars_df[\"amenities\"].map(lambda x: 1 if val in x else 0)})\n",
    "    array_cleaned_df = pd.concat([array_cleaned_df, val_col], axis=1)\n",
    "    \n",
    "non_num_vars_df = bos_listings.iloc[:, non_num_vars]\n",
    "\n",
    "cat_vars = []\n",
    "str_vars = []\n",
    "for col in non_num_vars_df.columns:\n",
    "    uniq_vals = non_num_vars_df[col].value_counts().shape[0]\n",
    "    if uniq_vals < 10:\n",
    "        cat_vars.append(col)\n",
    "    else:\n",
    "        str_vars.append(col)\n",
    "        \n",
    "# Get dummy columns for the categorical variables\n",
    "cat_vars_df = non_num_vars_df.loc[:, cat_vars]\n",
    "cat_vars_df = pd.get_dummies(cat_vars_df, drop_first=True, dummy_na=False)\n",
    "\n",
    "cleaned_bos_df = pd.concat([boolean_vars_df, num_vars_df, array_cleaned_df, cat_vars_df], axis=1)"
   ]
  },
  {
   "cell_type": "markdown",
   "metadata": {},
   "source": [
    "## Data Analysis, Modeling and Visualization"
   ]
  },
  {
   "cell_type": "markdown",
   "metadata": {},
   "source": [
    "### 1. How does availability and price change over the course of the year?"
   ]
  },
  {
   "cell_type": "markdown",
   "metadata": {},
   "source": [
    "The first question I want to answer is how does price and availability change over the course of the year. We'll plot this separately for both Boston and Seattle."
   ]
  },
  {
   "cell_type": "code",
   "execution_count": 19,
   "metadata": {},
   "outputs": [
    {
     "data": {
      "text/plain": [
       "Text(0.5,1,'Boston availability (%) by date')"
      ]
     },
     "execution_count": 19,
     "metadata": {},
     "output_type": "execute_result"
    },
    {
     "data": {
      "image/png": "[encoded data removed]",
      "text/plain": [
       "<Figure size 1080x360 with 2 Axes>"
      ]
     },
     "metadata": {},
     "output_type": "display_data"
    }
   ],
   "source": [
    "fig, ax = plt.subplots(1, 2, figsize=(15, 5))\n",
    "sea_cal.groupby(\"date\")[\"available\"].mean().plot(ax=ax[0])\n",
    "ax[0].set_title(\"Seattle availability (%) by date\")\n",
    "bos_cal.groupby(\"date\")[\"available\"].mean().plot(ax=ax[1])\n",
    "ax[1].set_title(\"Boston availability (%) by date\")"
   ]
  },
  {
   "cell_type": "markdown",
   "metadata": {},
   "source": [
    "For Seattle, availability climbs steadily from Jan - April, then has a sudden dip, then climbs again from April to July, drops again, and then finally climbs until the end of the year. For Boston, availability climbs from September to Dec, dips, climbs slightly from Dec to March, dips again, then is relatively stable from March to September. It's interesting that there are similarities in the two datasets despite them being tracked on different date ranges."
   ]
  },
  {
   "cell_type": "code",
   "execution_count": 20,
   "metadata": {},
   "outputs": [
    {
     "data": {
      "text/plain": [
       "Text(0.5,1,'Average Boston price ($) by date')"
      ]
     },
     "execution_count": 20,
     "metadata": {},
     "output_type": "execute_result"
    },
    {
     "data": {
      "image/png": "[encoded data removed]",
      "text/plain": [
       "<Figure size 1080x360 with 2 Axes>"
      ]
     },
     "metadata": {},
     "output_type": "display_data"
    }
   ],
   "source": [
    "fig, ax = plt.subplots(1, 2, figsize=(15, 5))\n",
    "sea_cal.groupby(\"date\")[\"price\"].mean().plot(ax=ax[0])\n",
    "ax[0].set_title(\"Average Seattle price ($) by date\")\n",
    "bos_cal.groupby(\"date\")[\"price\"].mean().plot(ax=ax[1])\n",
    "ax[1].set_title(\"Average Boston price ($) by date\")"
   ]
  },
  {
   "cell_type": "markdown",
   "metadata": {},
   "source": [
    "Creating the same plots for price, we see that there is a cyclical weekly pattern, as well as seasonal trends. For Seattle, price trends upward from January, peaking in the summer, and then dropping gradually until the end of the year. For Boston, however, prices climb steadily from January to September; there's an interesting price spike around mid-April, possibly spring break or something? This spike also corresponds with a dip in Boston availability."
   ]
  },
  {
   "cell_type": "markdown",
   "metadata": {},
   "source": [
    "### 2. How do the number of reviews changes over the year? What are the most popular names of reviewers? What are the most common words used in reviews?"
   ]
  },
  {
   "cell_type": "markdown",
   "metadata": {},
   "source": [
    "To visualize how the number of reviews changes over the year, I'm going to actually aggregate by month. It shouldn't necessarily change the shape of the graph, but it should smooth out the presentation a bit because we're dealing with multiple years of data."
   ]
  },
  {
   "cell_type": "code",
   "execution_count": 21,
   "metadata": {},
   "outputs": [],
   "source": [
    "sea_reviews[\"year_month\"] = sea_reviews[\"date\"].map(lambda x: pd.Timestamp(x.year, x.month, 1, 0))\n",
    "bos_reviews[\"year_month\"] = bos_reviews[\"date\"].map(lambda x: pd.Timestamp(x.year, x.month, 1, 0))"
   ]
  },
  {
   "cell_type": "code",
   "execution_count": 35,
   "metadata": {},
   "outputs": [
    {
     "data": {
      "text/plain": [
       "Text(0.5,1,'Number of reviews by month, Boston')"
      ]
     },
     "execution_count": 35,
     "metadata": {},
     "output_type": "execute_result"
    },
    {
     "data": {
      "image/png": "[encoded data removed]",
      "text/plain": [
       "<Figure size 1080x360 with 2 Axes>"
      ]
     },
     "metadata": {},
     "output_type": "display_data"
    }
   ],
   "source": [
    "fig, ax = plt.subplots(1, 2, figsize=(15, 5))\n",
    "sea_reviews.groupby(\"year_month\")[\"reviewer_id\"].count().plot(ax=ax[0], marker='o')\n",
    "ax[0].set_title(\"Number of reviews by month, Seattle\")\n",
    "bos_reviews.groupby(\"year_month\")[\"reviewer_id\"].count().plot(ax=ax[1], marker='o')\n",
    "ax[1].set_title(\"Number of reviews by month, Boston\")"
   ]
  },
  {
   "cell_type": "markdown",
   "metadata": {},
   "source": [
    "It seems that in general, people tend to write the most reviews in the summer; there's a clear cyclical pattern evident in the plot. Next, let's check out what the most common reviewer names are."
   ]
  },
  {
   "cell_type": "code",
   "execution_count": 36,
   "metadata": {},
   "outputs": [
    {
     "data": {
      "text/plain": [
       "Text(0.5,1,'Most popular reviewer names, Boston')"
      ]
     },
     "execution_count": 36,
     "metadata": {},
     "output_type": "execute_result"
    },
    {
     "data": {
      "image/png": "[encoded data removed]",
      "text/plain": [
       "<Figure size 1080x360 with 2 Axes>"
      ]
     },
     "metadata": {},
     "output_type": "display_data"
    }
   ],
   "source": [
    "fig, ax = plt.subplots(1, 2, figsize=(15, 5))\n",
    "sea_reviews[\"reviewer_name\"].value_counts().sort_values(ascending=False)[0:15].plot(kind=\"bar\", ax=ax[0])\n",
    "ax[0].set_title(\"Most popular reviewer names, Seattle\")\n",
    "bos_reviews[\"reviewer_name\"].value_counts().sort_values(ascending=False)[0:15].plot(kind=\"bar\", ax=ax[1])\n",
    "ax[1].set_title(\"Most popular reviewer names, Boston\")"
   ]
  },
  {
   "cell_type": "markdown",
   "metadata": {},
   "source": [
    "David is the most common male reviewer name; Sarah is the most common female reviewer name. My own name, Brian, is 14th! Yeah, my name's pretty common. For Boston, the names are pretty similar, though ordered a bit differently. The ranking of my name falls into the 20s here :(. Lastly, we're going to have a bit of fun seeing what the most common words in reviews are."
   ]
  },
  {
   "cell_type": "code",
   "execution_count": 24,
   "metadata": {},
   "outputs": [
    {
     "data": {
      "text/plain": [
       "[('great', 56276),\n",
       " ('stay', 48638),\n",
       " ('place', 43408),\n",
       " ('seattle', 34258),\n",
       " ('clean', 27237),\n",
       " ('location', 26280),\n",
       " ('apartment', 24432),\n",
       " ('comfortable', 22423),\n",
       " ('nice', 21772),\n",
       " ('house', 21455),\n",
       " ('room', 19704),\n",
       " ('home', 18190),\n",
       " ('host', 18133),\n",
       " ('everything', 18035),\n",
       " ('again', 16969),\n",
       " ('time', 16860),\n",
       " ('easy', 16711),\n",
       " ('neighborhood', 16525),\n",
       " ('really', 15958),\n",
       " ('recommend', 15818),\n",
       " ('definitely', 15010),\n",
       " ('perfect', 14815),\n",
       " ('downtown', 14421),\n",
       " ('not', 14386),\n",
       " ('well', 14071)]"
      ]
     },
     "execution_count": 24,
     "metadata": {},
     "output_type": "execute_result"
    }
   ],
   "source": [
    "stop_words = [\"and\", \"the\", \"to\", \"a\", \"was\", \"in\", \"we\", \"is\", \"of\", \"i\", \"for\", \"with\", \"it\", \"our\", \"were\", \"had\", \"us\", \"you\", '',\n",
    "             \"this\", \"as\", \"my\", \"as\", \"at\", \"so\", \"would\", \"that\", \"on\", \"there\", \"but\", \"she\", \"are\", \"they\", \"me\", \"an\", \"her\", \"have\",\n",
    "             \"very\", \"he\", \"if\", \"all\", \"be\", \"from\", \"him\"]\n",
    "\n",
    "comments_master_str = \"\"\n",
    "for val in sea_reviews[\"comments\"]:\n",
    "    comments_master_str += \" \" + str(val).lower()\n",
    "\n",
    "# Remove all non-letter/space characters\n",
    "# Found this trick here: https://stackoverflow.com/questions/21564625/removing-everything-except-letters-and-spaces-from-string-in-python3-3\n",
    "whitelist = set('abcdefghijklmnopqrstuvwxyz ABCDEFGHIJKLMNOPQRSTUVWXYZ')\n",
    "comments_master_str = ''.join(filter(whitelist.__contains__, comments_master_str))\n",
    "comments_master_str = comments_master_str.replace(\"  \", \"\")\n",
    "\n",
    "c = Counter(comments_master_str.split(\" \"))\n",
    "for val in stop_words:\n",
    "    del c[val]\n",
    "c.most_common(25)"
   ]
  },
  {
   "cell_type": "markdown",
   "metadata": {},
   "source": [
    "Some of the most common adjectives used in reviews are clean, comfortable, great and nice. It seems that many reviewers comment on location and comfort, with other location-related nouns like neighborhood and downtown also being common. The results aren't much different for Boston:"
   ]
  },
  {
   "cell_type": "code",
   "execution_count": 25,
   "metadata": {},
   "outputs": [
    {
     "data": {
      "text/plain": [
       "[('great', 37034),\n",
       " ('stay', 33164),\n",
       " ('place', 28827),\n",
       " ('boston', 27795),\n",
       " ('apartment', 26798),\n",
       " ('clean', 21559),\n",
       " ('location', 20941),\n",
       " ('room', 19141),\n",
       " ('nice', 17826),\n",
       " ('host', 15832),\n",
       " ('comfortable', 14280),\n",
       " ('house', 13666),\n",
       " ('not', 13260),\n",
       " ('everything', 12674),\n",
       " ('really', 12323),\n",
       " ('easy', 12044),\n",
       " ('recommend', 11838),\n",
       " ('time', 11634),\n",
       " ('good', 10878),\n",
       " ('again', 10658),\n",
       " ('well', 10171),\n",
       " ('home', 10109),\n",
       " ('perfect', 9836),\n",
       " ('definitely', 9766),\n",
       " ('also', 9765)]"
      ]
     },
     "execution_count": 25,
     "metadata": {},
     "output_type": "execute_result"
    }
   ],
   "source": [
    "# Count words in Boston reviews\n",
    "comments_master_str = \"\"\n",
    "for val in bos_reviews[\"comments\"]:\n",
    "    comments_master_str += \" \" + str(val).lower()\n",
    "\n",
    "# Remove all non-letter/space characters\n",
    "# Found this trick here: https://stackoverflow.com/questions/21564625/removing-everything-except-letters-and-spaces-from-string-in-python3-3\n",
    "comments_master_str = ''.join(filter(whitelist.__contains__, comments_master_str))\n",
    "comments_master_str = comments_master_str.replace(\"  \", \"\")\n",
    "\n",
    "c_bos = Counter(comments_master_str.split(\" \"))\n",
    "for val in stop_words:\n",
    "    del c_bos[val]\n",
    "c_bos.most_common(25)"
   ]
  },
  {
   "cell_type": "markdown",
   "metadata": {},
   "source": [
    "That wasn't nearly interesting as I hoped it would be - I guess in humans in Seattle and Boston are more similar than I thought. I'm going to try a different approach, though - I'm going to take the top 500 words in Seattle reviews, and then see how much more common they appear in Boston reviews by evaluating the ratio between Boston count and Seattle count. To be fair, this analysis will miss words that completely don't show up in Seattle reviews, but my goal is more along the lines of, among words that are common between reviewers, which ones are much more commonly used in Boston? -  so this works. We see that words like \"station\", \"airport\", show up much more commonly in Boston reviews, suggesting that the train and access to the airport may be important to reviewers in Boston."
   ]
  },
  {
   "cell_type": "code",
   "execution_count": 26,
   "metadata": {},
   "outputs": [
    {
     "data": {
      "text/plain": [
       "[('station', 3.859375),\n",
       " ('airport', 1.9832797427652733),\n",
       " ('floor', 1.2304199772985245),\n",
       " ('fine', 1.1830624465355004),\n",
       " ('old', 1.1818181818181819),\n",
       " ('rooms', 1.17359413202934),\n",
       " ('public', 1.1210310048561822),\n",
       " ('however', 1.1084033613445379),\n",
       " ('apartment', 1.096840209561231),\n",
       " ('air', 1.0857971014492753)]"
      ]
     },
     "execution_count": 26,
     "metadata": {},
     "output_type": "execute_result"
    }
   ],
   "source": [
    "c_ratio = Counter()\n",
    "for val in c.most_common(500):\n",
    "    c_ratio[val[0]] = c_bos[val[0]] / c[val[0]]\n",
    "c_ratio.most_common(10)"
   ]
  },
  {
   "cell_type": "markdown",
   "metadata": {},
   "source": [
    "Repeating the analysis for Seattle instead, we see that common words are 'view', 'hill', 'downtown', 'bus', and 'bars'. Surprisingly, 'fun' shows up 2.6 times more often in Seattle reviews. Seems people may think that Seattle is more fun than Boston!"
   ]
  },
  {
   "cell_type": "code",
   "execution_count": 27,
   "metadata": {},
   "outputs": [
    {
     "data": {
      "text/plain": [
       "[('view', 4.027916964924839),\n",
       " ('hill', 3.3654507914659324),\n",
       " ('downtown', 3.1288782816229115),\n",
       " ('bus', 3.083639330885353),\n",
       " ('light', 2.9448217317487266),\n",
       " ('bars', 2.8625756266205706),\n",
       " ('fun', 2.7639810426540286),\n",
       " ('space', 2.622895622895623),\n",
       " ('coffee', 2.6192242833052277),\n",
       " ('stocked', 2.567769477054429)]"
      ]
     },
     "execution_count": 27,
     "metadata": {},
     "output_type": "execute_result"
    }
   ],
   "source": [
    "c_ratio = Counter()\n",
    "for val in c_bos.most_common(500):\n",
    "    c_ratio[val[0]] = c[val[0]] / c_bos[val[0]]\n",
    "c_ratio.most_common(10)"
   ]
  },
  {
   "cell_type": "markdown",
   "metadata": {},
   "source": [
    "### 3. What are the features correlated with listing price using the listings dataset?"
   ]
  },
  {
   "cell_type": "markdown",
   "metadata": {},
   "source": [
    "Finally, I'm going to run a simple linear regression to predict price using the set of cleaned variables I have."
   ]
  },
  {
   "cell_type": "markdown",
   "metadata": {},
   "source": [
    "#### Missing Data Handling #2"
   ]
  },
  {
   "cell_type": "markdown",
   "metadata": {},
   "source": [
    "I've chosen to drop additional missing data before I run my regression. I'll decide to drop row or column depending on the number of missing values in the column. Other options here include data imputation or creating columns to represent missing/not missing data. However, I've chosen simply to drop data because I don't want to impute pretend data that may bias the model."
   ]
  },
  {
   "cell_type": "code",
   "execution_count": 28,
   "metadata": {},
   "outputs": [
    {
     "name": "stdout",
     "output_type": "stream",
     "text": [
      "host_is_superhost                 2\n",
      "host_has_profile_pic              2\n",
      "host_identity_verified            2\n",
      "host_response_rate              523\n",
      "host_acceptance_rate            773\n",
      "host_listings_count               2\n",
      "host_total_listings_count         2\n",
      "bathrooms                        16\n",
      "bedrooms                          6\n",
      "beds                              1\n",
      "weekly_price                   1809\n",
      "monthly_price                  2301\n",
      "security_deposit               1952\n",
      "cleaning_fee                   1030\n",
      "review_scores_rating            647\n",
      "review_scores_accuracy          658\n",
      "review_scores_cleanliness       653\n",
      "review_scores_checkin           658\n",
      "review_scores_communication     651\n",
      "review_scores_location          655\n",
      "review_scores_value             656\n",
      "reviews_per_month               627\n",
      "dtype: int64\n"
     ]
    }
   ],
   "source": [
    "cols_with_na = cleaned_df.isna().sum(axis=0)\n",
    "print(cols_with_na[cols_with_na > 0])\n",
    "cols_to_drop = cols_with_na[cols_with_na > 20].index"
   ]
  },
  {
   "cell_type": "markdown",
   "metadata": {},
   "source": [
    "Here, I can see that there are columns that are missing hundreds of values and then a set of columns that are only missing a few. I'll drop the columns that are missing large numbers of values and then drop the remaining observations that are just missing a few. This way, I've handled all the missing data while dropping as little data as possible. In the cell below, I've also dropped a few additional columns that have low variance, which result in instable coefficient estimates in the regression."
   ]
  },
  {
   "cell_type": "code",
   "execution_count": 29,
   "metadata": {},
   "outputs": [],
   "source": [
    "cleaned_df_dropna = cleaned_df.drop(columns = cols_to_drop)\n",
    "cleaned_df_dropna = cleaned_df_dropna.dropna(axis=0)\n",
    "cleaned_df_dropna = cleaned_df_dropna.drop(columns=[\"amenities_Washer / Dryer\"]) # No variance\n",
    "cleaned_df_dropna = cleaned_df_dropna.drop(columns=[\"host_verification_photographer\"]) # Numerical instability"
   ]
  },
  {
   "cell_type": "code",
   "execution_count": 30,
   "metadata": {},
   "outputs": [
    {
     "name": "stdout",
     "output_type": "stream",
     "text": [
      "0.577663387721407\n",
      "0.5858424925506823\n",
      "3515.4633819237133\n",
      "3240.88207618554\n"
     ]
    }
   ],
   "source": [
    "y = cleaned_df_dropna[[\"price\"]]\n",
    "X = cleaned_df_dropna.loc[:, ~(cleaned_df_dropna.columns==\"price\")]\n",
    "X_train, X_test, y_train, y_test = train_test_split(X, y, test_size=0.3, random_state=1234)\n",
    "\n",
    "mod = LinearRegression(normalize=False)\n",
    "mod.fit(X_train, y_train)\n",
    "\n",
    "y_train_preds = mod.predict(X_train)\n",
    "y_test_preds = mod.predict(X_test)\n",
    "\n",
    "print(r2_score(y_train, y_train_preds))\n",
    "print(r2_score(y_test, y_test_preds))\n",
    "print(mean_squared_error(y_train, y_train_preds))\n",
    "print(mean_squared_error(y_test, y_test_preds))"
   ]
  },
  {
   "cell_type": "code",
   "execution_count": 31,
   "metadata": {},
   "outputs": [
    {
     "data": {
      "text/html": [
       "<div>\n",
       "<style scoped>\n",
       "    .dataframe tbody tr th:only-of-type {\n",
       "        vertical-align: middle;\n",
       "    }\n",
       "\n",
       "    .dataframe tbody tr th {\n",
       "        vertical-align: top;\n",
       "    }\n",
       "\n",
       "    .dataframe thead th {\n",
       "        text-align: right;\n",
       "    }\n",
       "</style>\n",
       "<table border=\"1\" class=\"dataframe\">\n",
       "  <thead>\n",
       "    <tr style=\"text-align: right;\">\n",
       "      <th></th>\n",
       "      <th>var_name</th>\n",
       "      <th>coefs</th>\n",
       "      <th>abs_coefs</th>\n",
       "    </tr>\n",
       "  </thead>\n",
       "  <tbody>\n",
       "    <tr>\n",
       "      <th>80</th>\n",
       "      <td>room_type_Shared room</td>\n",
       "      <td>-78.349</td>\n",
       "      <td>78.349</td>\n",
       "    </tr>\n",
       "    <tr>\n",
       "      <th>24</th>\n",
       "      <td>host_verification_sent_id</td>\n",
       "      <td>51.963</td>\n",
       "      <td>51.963</td>\n",
       "    </tr>\n",
       "    <tr>\n",
       "      <th>1</th>\n",
       "      <td>host_has_profile_pic</td>\n",
       "      <td>-44.365</td>\n",
       "      <td>44.365</td>\n",
       "    </tr>\n",
       "    <tr>\n",
       "      <th>79</th>\n",
       "      <td>room_type_Private room</td>\n",
       "      <td>-43.450</td>\n",
       "      <td>43.450</td>\n",
       "    </tr>\n",
       "    <tr>\n",
       "      <th>78</th>\n",
       "      <td>host_response_time_within an hour</td>\n",
       "      <td>-33.883</td>\n",
       "      <td>33.883</td>\n",
       "    </tr>\n",
       "    <tr>\n",
       "      <th>44</th>\n",
       "      <td>amenities_Wireless Internet</td>\n",
       "      <td>33.082</td>\n",
       "      <td>33.082</td>\n",
       "    </tr>\n",
       "    <tr>\n",
       "      <th>57</th>\n",
       "      <td>amenities_Doorman</td>\n",
       "      <td>32.445</td>\n",
       "      <td>32.445</td>\n",
       "    </tr>\n",
       "    <tr>\n",
       "      <th>11</th>\n",
       "      <td>bedrooms</td>\n",
       "      <td>32.391</td>\n",
       "      <td>32.391</td>\n",
       "    </tr>\n",
       "    <tr>\n",
       "      <th>40</th>\n",
       "      <td>amenities_Internet</td>\n",
       "      <td>-30.899</td>\n",
       "      <td>30.899</td>\n",
       "    </tr>\n",
       "    <tr>\n",
       "      <th>10</th>\n",
       "      <td>bathrooms</td>\n",
       "      <td>28.976</td>\n",
       "      <td>28.976</td>\n",
       "    </tr>\n",
       "  </tbody>\n",
       "</table>\n",
       "</div>"
      ],
      "text/plain": [
       "                             var_name   coefs  abs_coefs\n",
       "80              room_type_Shared room -78.349     78.349\n",
       "24          host_verification_sent_id  51.963     51.963\n",
       "1                host_has_profile_pic -44.365     44.365\n",
       "79             room_type_Private room -43.450     43.450\n",
       "78  host_response_time_within an hour -33.883     33.883\n",
       "44        amenities_Wireless Internet  33.082     33.082\n",
       "57                  amenities_Doorman  32.445     32.445\n",
       "11                           bedrooms  32.391     32.391\n",
       "40                 amenities_Internet -30.899     30.899\n",
       "10                          bathrooms  28.976     28.976"
      ]
     },
     "execution_count": 31,
     "metadata": {},
     "output_type": "execute_result"
    }
   ],
   "source": [
    "coefs_df = pd.DataFrame()\n",
    "coefs_df['var_name'] = X_train.columns\n",
    "coefs_df['coefs'] = mod.coef_[0, :]\n",
    "coefs_df['abs_coefs'] = np.abs(mod.coef_[0, :])\n",
    "\n",
    "pd.set_option('display.float_format', lambda x: '%.3f' % x)\n",
    "coefs_df.sort_values('abs_coefs', ascending=False).head(10)"
   ]
  },
  {
   "cell_type": "markdown",
   "metadata": {},
   "source": [
    "For Seattle, the top positive features associated with price are `host_verification_sent_id`, `amenities_Wireless Internet`, and `amenities_Doorman`, as well as `bedrooms` and `bathrooms` which we might expect. The top negative features include `room_type_Shared room` and `room_type_Private room`. Let's check out what the top features are for Boston."
   ]
  },
  {
   "cell_type": "code",
   "execution_count": 32,
   "metadata": {},
   "outputs": [
    {
     "name": "stdout",
     "output_type": "stream",
     "text": [
      "host_response_rate              471\n",
      "host_acceptance_rate            471\n",
      "bathrooms                        14\n",
      "bedrooms                         10\n",
      "beds                              9\n",
      "weekly_price                   2693\n",
      "monthly_price                  2697\n",
      "security_deposit               2243\n",
      "cleaning_fee                   1107\n",
      "review_scores_rating            813\n",
      "review_scores_accuracy          823\n",
      "review_scores_cleanliness       818\n",
      "review_scores_checkin           820\n",
      "review_scores_communication     818\n",
      "review_scores_location          822\n",
      "review_scores_value             821\n",
      "reviews_per_month               756\n",
      "dtype: int64\n"
     ]
    }
   ],
   "source": [
    "cols_with_na = cleaned_bos_df.isna().sum(axis=0)\n",
    "print(cols_with_na[cols_with_na > 0])\n",
    "cols_to_drop = cols_with_na[cols_with_na > 20].index\n",
    "\n",
    "cleaned_bos_df_dropna = cleaned_bos_df.drop(columns = cols_to_drop)\n",
    "cleaned_bos_df_dropna = cleaned_bos_df_dropna.dropna(axis=0)\n",
    "cleaned_bos_df_dropna = cleaned_bos_df_dropna.drop(columns=[\"host_listings_count\"]) # Collinear with another column"
   ]
  },
  {
   "cell_type": "code",
   "execution_count": 33,
   "metadata": {},
   "outputs": [
    {
     "name": "stdout",
     "output_type": "stream",
     "text": [
      "0.5212002051873474\n",
      "-0.6098530203538219\n",
      "6953.498330865948\n",
      "63968.78338672878\n"
     ]
    }
   ],
   "source": [
    "y = cleaned_bos_df_dropna[[\"price\"]]\n",
    "X = cleaned_bos_df_dropna.loc[:, ~(cleaned_bos_df_dropna.columns==\"price\")]\n",
    "X_train, X_test, y_train, y_test = train_test_split(X, y, test_size=0.3, random_state=1234)\n",
    "\n",
    "mod = LinearRegression(normalize=True)\n",
    "mod.fit(X_train, y_train)\n",
    "\n",
    "y_train_preds = mod.predict(X_train)\n",
    "y_test_preds = mod.predict(X_test)\n",
    "\n",
    "print(r2_score(y_train, y_train_preds))\n",
    "print(r2_score(y_test, y_test_preds))\n",
    "print(mean_squared_error(y_train, y_train_preds))\n",
    "print(mean_squared_error(y_test, y_test_preds))"
   ]
  },
  {
   "cell_type": "code",
   "execution_count": 34,
   "metadata": {},
   "outputs": [
    {
     "data": {
      "text/html": [
       "<div>\n",
       "<style scoped>\n",
       "    .dataframe tbody tr th:only-of-type {\n",
       "        vertical-align: middle;\n",
       "    }\n",
       "\n",
       "    .dataframe tbody tr th {\n",
       "        vertical-align: top;\n",
       "    }\n",
       "\n",
       "    .dataframe thead th {\n",
       "        text-align: right;\n",
       "    }\n",
       "</style>\n",
       "<table border=\"1\" class=\"dataframe\">\n",
       "  <thead>\n",
       "    <tr style=\"text-align: right;\">\n",
       "      <th></th>\n",
       "      <th>var_name</th>\n",
       "      <th>coefs</th>\n",
       "      <th>abs_coefs</th>\n",
       "    </tr>\n",
       "  </thead>\n",
       "  <tbody>\n",
       "    <tr>\n",
       "      <th>91</th>\n",
       "      <td>cancellation_policy_super_strict_30</td>\n",
       "      <td>127.564</td>\n",
       "      <td>127.564</td>\n",
       "    </tr>\n",
       "    <tr>\n",
       "      <th>25</th>\n",
       "      <td>host_verification_sent_id</td>\n",
       "      <td>-91.221</td>\n",
       "      <td>91.221</td>\n",
       "    </tr>\n",
       "    <tr>\n",
       "      <th>83</th>\n",
       "      <td>room_type_Private room</td>\n",
       "      <td>-75.233</td>\n",
       "      <td>75.233</td>\n",
       "    </tr>\n",
       "    <tr>\n",
       "      <th>42</th>\n",
       "      <td>amenities_Paid Parking Off Premises</td>\n",
       "      <td>-60.699</td>\n",
       "      <td>60.699</td>\n",
       "    </tr>\n",
       "    <tr>\n",
       "      <th>84</th>\n",
       "      <td>room_type_Shared room</td>\n",
       "      <td>-60.280</td>\n",
       "      <td>60.280</td>\n",
       "    </tr>\n",
       "    <tr>\n",
       "      <th>23</th>\n",
       "      <td>host_verification_phone</td>\n",
       "      <td>49.885</td>\n",
       "      <td>49.885</td>\n",
       "    </tr>\n",
       "    <tr>\n",
       "      <th>60</th>\n",
       "      <td>amenities_Doorman</td>\n",
       "      <td>39.835</td>\n",
       "      <td>39.835</td>\n",
       "    </tr>\n",
       "    <tr>\n",
       "      <th>39</th>\n",
       "      <td>amenities_Internet</td>\n",
       "      <td>-37.456</td>\n",
       "      <td>37.456</td>\n",
       "    </tr>\n",
       "    <tr>\n",
       "      <th>54</th>\n",
       "      <td>amenities_Free Parking on Premises</td>\n",
       "      <td>-36.382</td>\n",
       "      <td>36.382</td>\n",
       "    </tr>\n",
       "    <tr>\n",
       "      <th>10</th>\n",
       "      <td>bedrooms</td>\n",
       "      <td>32.829</td>\n",
       "      <td>32.829</td>\n",
       "    </tr>\n",
       "  </tbody>\n",
       "</table>\n",
       "</div>"
      ],
      "text/plain": [
       "                               var_name   coefs  abs_coefs\n",
       "91  cancellation_policy_super_strict_30 127.564    127.564\n",
       "25            host_verification_sent_id -91.221     91.221\n",
       "83               room_type_Private room -75.233     75.233\n",
       "42  amenities_Paid Parking Off Premises -60.699     60.699\n",
       "84                room_type_Shared room -60.280     60.280\n",
       "23              host_verification_phone  49.885     49.885\n",
       "60                    amenities_Doorman  39.835     39.835\n",
       "39                   amenities_Internet -37.456     37.456\n",
       "54   amenities_Free Parking on Premises -36.382     36.382\n",
       "10                             bedrooms  32.829     32.829"
      ]
     },
     "execution_count": 34,
     "metadata": {},
     "output_type": "execute_result"
    }
   ],
   "source": [
    "coefs_df = pd.DataFrame()\n",
    "coefs_df['var_name'] = X_train.columns\n",
    "coefs_df['coefs'] = mod.coef_[0, :]\n",
    "coefs_df['abs_coefs'] = np.abs(mod.coef_[0, :])\n",
    "\n",
    "pd.set_option('display.float_format', lambda x: '%.3f' % x)\n",
    "coefs_df.sort_values('abs_coefs', ascending=False).head(10)"
   ]
  },
  {
   "cell_type": "markdown",
   "metadata": {},
   "source": [
    "For Boston, the top positive features associated with price are `cancellation_policy_super_strict_30`, `host_verification_phone` and and `amenities_Doorman`, as well as `bedrooms`. The top negative features include `host_verification_sent_id` and `room_type_Private room`."
   ]
  }
 ],
 "metadata": {
  "kernelspec": {
   "display_name": "Python 3",
   "language": "python",
   "name": "python3"
  },
  "language_info": {
   "codemirror_mode": {
    "name": "ipython",
    "version": 3
   },
   "file_extension": ".py",
   "mimetype": "text/x-python",
   "name": "python",
   "nbconvert_exporter": "python",
   "pygments_lexer": "ipython3",
   "version": "3.6.6"
  }
 },
 "nbformat": 4,
 "nbformat_minor": 2
}
